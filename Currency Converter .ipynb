{
 "cells": [
  {
   "cell_type": "code",
   "execution_count": null,
   "id": "c0667f17",
   "metadata": {},
   "outputs": [],
   "source": [
    "# Import the necessary library for currency conversion\n",
    "from forex_python.converter import CurrencyRates\n",
    "\n",
    "# Define a function for currency conversion using the exchange rate dictionary\n",
    "def currency_converter_exchange_rate(amount, from_currency, to_currency, exchange_rates):\n",
    "    # Check if the provided currencies are valid in the exchange rate dictionary\n",
    "    if from_currency in exchange_rates and to_currency in exchange_rates[from_currency]:\n",
    "        exchange_rate = exchange_rates[from_currency][to_currency]\n",
    "        converted_amount = amount * exchange_rate\n",
    "        return converted_amount\n",
    "    else:\n",
    "        return None\n",
    "\n",
    "# Define a function for currency conversion using the forex_python library\n",
    "def currency_converter_forex(amount, from_currency, to_currency):\n",
    "    c = CurrencyRates()\n",
    "    converted_amount = c.convert(from_currency, to_currency, amount)\n",
    "    return converted_amount\n",
    "\n",
    "# Exchange rate dictionary containing conversion rates\n",
    "exchange_rates = {\n",
    "    'INR': {'USD': 0.014, 'EUR': 0.012, 'GBP': 0.011, 'JPY': 1.54, 'CAD': 0.018, 'AUD': 0.019, 'CNY': 0.091, 'MXN': 0.28, 'AED': 0.052, 'ZAR': 0.20},\n",
    "    'USD': {'INR': 72.62, 'EUR': 0.85, 'GBP': 0.75, 'JPY': 110.21, 'CAD': 1.25, 'AUD': 1.33, 'CNY': 6.47, 'MXN': 20.26, 'AED': 3.67, 'ZAR': 14.33},\n",
    "    'EUR': {'INR': 81.99, 'USD': 1.18, 'GBP': 0.88, 'JPY': 129.57, 'CAD': 1.47, 'AUD': 1.57, 'CNY': 7.65, 'MXN': 23.97, 'AED': 4.35, 'ZAR': 16.96},\n",
    "    'GBP': {'INR': 89.40, 'USD': 1.34, 'EUR': 1.14, 'JPY': 146.47, 'CAD': 1.73, 'AUD': 1.84, 'CNY': 8.93, 'MXN': 27.91, 'AED': 5.06, 'ZAR': 19.78},\n",
    "    'JPY': {'INR': 0.65, 'USD': 0.0091, 'EUR': 0.0077, 'GBP': 0.0068, 'CAD': 0.011, 'AUD': 0.012, 'CNY': 0.058, 'MXN': 0.18, 'AED': 0.033, 'ZAR': 0.13},\n",
    "    'CAD': {'INR': 56.58, 'USD': 0.80, 'EUR': 0.68, 'GBP': 0.58, 'JPY': 89.43, 'AUD': 1.06, 'CNY': 5.13, 'MXN': 16.02, 'AED': 2.91, 'ZAR': 11.38},\n",
    "    'AUD': {'INR': 52.27, 'USD': 0.75, 'EUR': 0.64, 'GBP': 0.54, 'JPY': 81.97, 'CAD': 0.94, 'CNY': 4.84, 'MXN': 15.12, 'AED': 2.75, 'ZAR': 10.73},\n",
    "    'CNY': {'INR': 10.95, 'USD': 0.15, 'EUR': 0.13, 'GBP': 0.11, 'JPY': 17.17, 'CAD': 0.19, 'AUD': 0.21, 'MXN': 3.12, 'AED': 0.57, 'ZAR': 2.22},\n",
    "    'MXN': {'INR': 3.57, 'USD': 0.049, 'EUR': 0.042, 'GBP': 0.036, 'JPY': 5.50, 'CAD': 0.062, 'AUD': 0.066, 'CNY': 0.32, 'AED': 0.18, 'ZAR': 0.70},\n",
    "    'AED': {'INR': 19.11, 'USD': 0.27, 'EUR': 0.23, 'GBP': 0.20, 'JPY': 29.71, 'CAD': 0.34, 'AUD': 0.36, 'CNY': 1.79, 'MXN': 5.58, 'ZAR': 3.91},\n",
    "    'ZAR': {'INR': 5.03, 'USD': 0.070, 'EUR': 0.059, 'GBP': 0.051, 'JPY': 7.58, 'CAD': 0.088, 'AUD': 0.093, 'CNY': 0.45, 'MXN': 1.43, 'AED': 0.26}\n",
    "\n",
    "}\n",
    "\n",
    "# Get user input for conversion details\n",
    "amount = float(input(\"Enter the amount: \"))\n",
    "from_currency = input(\"Enter the source currency: \").upper()\n",
    "to_currency = input(\"Enter the target currency: \").upper()\n",
    "\n",
    "# Call the currency_converter_exchange_rate function with user input and exchange rates\n",
    "converted_amount_exchange_rate = currency_converter_exchange_rate(amount, from_currency, to_currency, exchange_rates)\n",
    "\n",
    "# Call the currency_converter_forex function with user input\n",
    "converted_amount_forex = currency_converter_forex(amount, from_currency, to_currency)\n",
    "\n",
    "# Display the results\n",
    "if converted_amount_exchange_rate is not None:\n",
    "    print(f\"Using Exchange Rate Dictionary: {amount} {from_currency} is equal to {converted_amount_exchange_rate:.2f} {to_currency}\")\n",
    "else:\n",
    "    print(\"Invalid currency codes for Exchange Rate Dictionary.\")\n",
    "\n",
    "print(f\"Using forex_python Library: {amount} {from_currency} is equal to {converted_amount_forex:.2f} {to_currency}\")\n"
   ]
  }
 ],
 "metadata": {
  "kernelspec": {
   "display_name": "Python 3 (ipykernel)",
   "language": "python",
   "name": "python3"
  },
  "language_info": {
   "codemirror_mode": {
    "name": "ipython",
    "version": 3
   },
   "file_extension": ".py",
   "mimetype": "text/x-python",
   "name": "python",
   "nbconvert_exporter": "python",
   "pygments_lexer": "ipython3",
   "version": "3.11.5"
  }
 },
 "nbformat": 4,
 "nbformat_minor": 5
}
